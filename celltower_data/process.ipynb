{
 "cells": [
  {
   "cell_type": "code",
   "execution_count": null,
   "id": "049fd78f",
   "metadata": {},
   "outputs": [],
   "source": [
    "# Merge datasets\n",
    "from pathlib import Path\n",
    "\n",
    "import polars as pl\n",
    "\n",
    "current_path = Path(\".\")\n",
    "merged_name = \"merged_uk_data.csv\"\n",
    "merged_path = current_path.joinpath(merged_name)\n",
    "\n",
    "# Load datasets\n",
    "datasets = []\n",
    "for file in current_path.glob(\"*.csv\"):\n",
    "    if file.name.startswith(merged_name):\n",
    "        continue\n",
    "    print(f\"Added {file.absolute().as_posix()}\")\n",
    "    datasets.append(\n",
    "        pl.read_csv(file)\n",
    "    )\n",
    "\n",
    "merged_data: pl.DataFrame = pl.concat(datasets, how=\"diagonal_relaxed\", rechunk=True)\n",
    "merged_data.write_csv(merged_path)\n"
   ]
  }
 ],
 "metadata": {
  "kernelspec": {
   "display_name": ".venv",
   "language": "python",
   "name": "python3"
  },
  "language_info": {
   "codemirror_mode": {
    "name": "ipython",
    "version": 3
   },
   "file_extension": ".py",
   "mimetype": "text/x-python",
   "name": "python",
   "nbconvert_exporter": "python",
   "pygments_lexer": "ipython3",
   "version": "3.12.3"
  }
 },
 "nbformat": 4,
 "nbformat_minor": 5
}
